{
 "cells": [
  {
   "cell_type": "code",
   "execution_count": 1,
   "metadata": {},
   "outputs": [],
   "source": [
    "import os,sys, json\n",
    "sys.path.append('../')\n",
    "os.environ[\"OPENAI_API_KEY\"]=\"sk-\""
   ]
  },
  {
   "attachments": {},
   "cell_type": "markdown",
   "metadata": {},
   "source": [
    "# Examples of  SecurityGPT Usage"
   ]
  },
  {
   "attachments": {},
   "cell_type": "markdown",
   "metadata": {},
   "source": [
    "## CVE Summarization"
   ]
  },
  {
   "cell_type": "code",
   "execution_count": 2,
   "metadata": {},
   "outputs": [
    {
     "name": "stderr",
     "output_type": "stream",
     "text": [
      "/opt/homebrew/lib/python3.11/site-packages/urllib3/connectionpool.py:1056: InsecureRequestWarning: Unverified HTTPS request is being made to host 'nvd.nist.gov'. Adding certificate verification is strongly advised. See: https://urllib3.readthedocs.io/en/1.26.x/advanced-usage.html#ssl-warnings\n",
      "  warnings.warn(\n"
     ]
    },
    {
     "name": "stdout",
     "output_type": "stream",
     "text": [
      "initiate_driver_return_browser\n"
     ]
    },
    {
     "name": "stderr",
     "output_type": "stream",
     "text": [
      "/opt/homebrew/lib/python3.11/site-packages/urllib3/connectionpool.py:1056: InsecureRequestWarning: Unverified HTTPS request is being made to host 'www.cvedetails.com'. Adding certificate verification is strongly advised. See: https://urllib3.readthedocs.io/en/1.26.x/advanced-usage.html#ssl-warnings\n",
      "  warnings.warn(\n"
     ]
    },
    {
     "name": "stdout",
     "output_type": "stream",
     "text": [
      "initiate_driver_return_browser\n"
     ]
    },
    {
     "name": "stderr",
     "output_type": "stream",
     "text": [
      "/opt/homebrew/lib/python3.11/site-packages/urllib3/connectionpool.py:1056: InsecureRequestWarning: Unverified HTTPS request is being made to host 'ubuntu.com'. Adding certificate verification is strongly advised. See: https://urllib3.readthedocs.io/en/1.26.x/advanced-usage.html#ssl-warnings\n",
      "  warnings.warn(\n"
     ]
    },
    {
     "name": "stdout",
     "output_type": "stream",
     "text": [
      "initiate_driver_return_browser\n"
     ]
    },
    {
     "name": "stderr",
     "output_type": "stream",
     "text": [
      "/opt/homebrew/lib/python3.11/site-packages/urllib3/connectionpool.py:1056: InsecureRequestWarning: Unverified HTTPS request is being made to host 'alas.aws.amazon.com'. Adding certificate verification is strongly advised. See: https://urllib3.readthedocs.io/en/1.26.x/advanced-usage.html#ssl-warnings\n",
      "  warnings.warn(\n",
      "/opt/homebrew/lib/python3.11/site-packages/bs4/builder/__init__.py:545: XMLParsedAsHTMLWarning: It looks like you're parsing an XML document using an HTML parser. If this really is an HTML document (maybe it's XHTML?), you can ignore or filter this warning. If it's XML, you should know that using an XML parser will be more reliable. To parse this document as XML, make sure you have the lxml package installed, and pass the keyword argument `features=\"xml\"` into the BeautifulSoup constructor.\n",
      "  warnings.warn(\n"
     ]
    },
    {
     "name": "stdout",
     "output_type": "stream",
     "text": [
      "initiate_driver_return_browser\n",
      "exceptin in fetch_text\n"
     ]
    },
    {
     "data": {
      "text/plain": [
       "'{\\n  \"base_score\": 0,\\n  \"severity\": \"N/A\",\\n  \"attack_vector\": \"N/A\",\\n  \"attack_complexity\": \"N/A\",\\n  \"product_name\": \"N/A\",\\n  \"company_name\": \"N/A\",\\n  \"cwe_name\": \"N/A\",\\n  \"versions_affected\": \"N/A\",\\n  \"versions_not_affected\": \"N/A\",\\n  \"applicable_operating_systems\": \"N/A\",\\n  \"application_configuration_needed\": \"N/A\",\\n  \"versions_fixed\": \"N/A\",\\n  \"remediation\": {\\n    \"patch_remediation\": \"N/A\",\\n    \"network_remediation\": \"N/A\",\\n    \"host_remediation\": \"N/A\",\\n    \"application_remediation\": \"N/A\",\\n    \"database_remediation\": \"N/A\",\\n    \"operating_system_remediation\": \"N/A\"\\n  },\\n  \"summary\": \"This page contains links to other websites that may have information that would be of interest to you. No inferences should be drawn on account of other sites being referenced, or not, from this page. There may be other web sites that are more appropriate for your purpose. NIST does not endorse any commercial products that may be mentioned on these sites. Please address comments about this page to nvd@nist.gov. Site Privacy | Accessibility | Privacy Program | Copyrights | Vulnerability Disclosure | No Fear Act Policy | FOIA | Environmental Policy | Scientific Integrity | Information Quality Standards | Commerce.gov | Science.gov | USA.gov\"\\n}'"
      ]
     },
     "execution_count": 2,
     "metadata": {},
     "output_type": "execute_result"
    }
   ],
   "source": [
    "\n",
    "\n",
    "from securitygpt.gpts.vulngpt.cvegpt import summarize_cve\n",
    "summarize_cve(\"CVE-2021-36934\")\n"
   ]
  },
  {
   "attachments": {},
   "cell_type": "markdown",
   "metadata": {},
   "source": [
    "## Threat Knowledge Graphs\n"
   ]
  },
  {
   "cell_type": "code",
   "execution_count": 3,
   "metadata": {},
   "outputs": [
    {
     "name": "stdout",
     "output_type": "stream",
     "text": [
      "initiate_driver_return_browser\n",
      "dict_keys(['nodes', 'edges'])\n"
     ]
    }
   ],
   "source": [
    "\n",
    "import sys\n",
    "sys.path.append('../')\n",
    "from securitygpt.gpts.researchgpt.graphgpt import draw_threat_graph\n",
    "\n",
    "url = \"https://www.wiz.io/blog/38-terabytes-of-private-data-accidentally-exposed-by-microsoft-ai-researchers\"\n",
    "objective = \"in depth understand the attack details and remediations exhaustively\"\n",
    "\n",
    "dot = draw_threat_graph(url,objective)"
   ]
  },
  {
   "cell_type": "code",
   "execution_count": 4,
   "metadata": {},
   "outputs": [
    {
     "name": "stdout",
     "output_type": "stream",
     "text": [
      "// Knowledge Graph\n",
      "digraph {\n",
      "\t1 [label=\"Microsoft AI research team\" color=blue]\n",
      "\t2 [label=\"Open-source training data\" color=blue]\n",
      "\t3 [label=\"Private data exposure\" color=red]\n",
      "\t4 [label=\"Risks of leveraging AI\" color=blue]\n",
      "\t5 [label=\"Security checks and safeguards\" color=blue]\n",
      "\t6 [label=\"Wiz Research Team\" color=blue]\n",
      "\t7 [label=\"Misconfigured storage containers\" color=blue]\n",
      "\t8 [label=\"GitHub repository (robust-models-transfer)\" color=blue]\n",
      "\t9 [label=\"Azure Storage URL\" color=blue]\n",
      "\t10 [label=\"Additional data (38TB)\" color=red]\n",
      "\t11 [label=\"Disk backup\" color=red]\n",
      "\t12 [label=\"Sensitive personal data\" color=red]\n",
      "\t13 [label=\"Passwords to Microsoft services\" color=red]\n",
      "\t14 [label=\"Secret keys\" color=red]\n",
      "\t15 [label=\"Microsoft Teams messages\" color=red]\n",
      "\t16 [label=\"Overly permissive access scope\" color=red]\n",
      "\t17 [label=\"Token misconfiguration\" color=red]\n",
      "\t18 [label=\"AI models\" color=blue]\n",
      "\t19 [label=\"Malicious code injection\" color=red]\n",
      "\t20 [label=\"SAS tokens\" color=blue]\n",
      "\t21 [label=\"Shared Access Signature (SAS)\" color=blue]\n",
      "\t22 [label=\"Account SAS tokens\" color=blue]\n",
      "\t23 [label=\"Service SAS tokens\" color=blue]\n",
      "\t24 [label=\"User Delegation SAS tokens\" color=blue]\n",
      "\t25 [label=\"Account SAS configuration\" color=blue]\n",
      "\t26 [label=\"Token scope\" color=blue]\n",
      "\t27 [label=\"Token permissions\" color=blue]\n",
      "\t28 [label=\"Token expiry date\" color=blue]\n",
      "\t29 [label=\"Token revocation\" color=blue]\n",
      "\t30 [label=\"Account key rotation\" color=blue]\n",
      "\t31 [label=\"Supply chain attacks\" color=red]\n",
      "\t32 [label=\"AI models from external sources\" color=red]\n",
      "\t33 [label=\"Data leak\" color=red]\n",
      "\t34 [label=\"Account SAS token usage\" color=red]\n",
      "\t35 [label=\"Security risks in AI research\" color=blue]\n",
      "\t36 [label=\"Oversharing of data\" color=red]\n",
      "\t37 [label=\"Risk of supply chain attacks\" color=red]\n",
      "\t38 [label=\"Data leak prevention\" color=green]\n",
      "\t39 [label=\"Guidelines for external sharing\" color=green]\n",
      "\t40 [label=\"AI dataset separation\" color=green]\n",
      "\t41 [label=\"Security review of AI models\" color=green]\n",
      "\t42 [label=\"Remote code execution\" color=red]\n",
      "\t43 [label=\"Visibility into AI research processes\" color=green]\n",
      "\t44 [label=\"Collaboration between security and research teams\" color=green]\n",
      "\t45 [label=\"Cloud security\" color=blue]\n",
      "\t46 [label=\"White-hat hackers\" color=blue]\n",
      "\t47 [label=\"Cloud attack vectors\" color=blue]\n",
      "\t48 [label=\"Isolation issues in cloud vendors\" color=blue]\n",
      "\t1 -> 2 [label=published]\n",
      "\t1 -> 3 [label=exposed]\n",
      "\t1 -> 4 [label=face]\n",
      "\t1 -> 5 [label=require]\n",
      "\t6 -> 3 [label=\"work on\"]\n",
      "\t7 -> 8 [label=found]\n",
      "\t8 -> 7 [label=\"belongs to\"]\n",
      "\t9 -> 10 [label=\"contained in\"]\n",
      "\t10 -> 9 [label=contained]\n",
      "\t10 -> 11 [label=contained]\n",
      "\t10 -> 12 [label=contained]\n",
      "\t10 -> 13 [label=contained]\n",
      "\t10 -> 14 [label=contained]\n",
      "\t10 -> 15 [label=contained]\n",
      "\t16 -> 17 [label=allowed]\n",
      "\t17 -> 16 [label=misconfigured]\n",
      "\t1 -> 18 [label=provide]\n",
      "\t18 -> 2 [label=for]\n",
      "\t18 -> 19 [label=instructs]\n",
      "\t19 -> 18 [label=inject]\n",
      "\t20 -> 21 [label=\"is a\"]\n",
      "\t21 -> 20 [label=\"type of\"]\n",
      "\t21 -> 22 [label=\"is a\"]\n",
      "\t21 -> 23 [label=\"is a\"]\n",
      "\t21 -> 24 [label=\"is a\"]\n",
      "\t22 -> 25 [label=\"configured with\"]\n",
      "\t25 -> 26 [label=defines]\n",
      "\t25 -> 27 [label=defines]\n",
      "\t25 -> 28 [label=defines]\n",
      "\t25 -> 29 [label=requires]\n",
      "\t29 -> 30 [label=requires]\n",
      "\t31 -> 32 [label=pose]\n",
      "\t32 -> 31 [label=exploit]\n",
      "\t33 -> 34 [label=\"led to\"]\n",
      "\t34 -> 33 [label=track]\n",
      "\t35 -> 36 [label=poses]\n",
      "\t35 -> 37 [label=poses]\n",
      "\t38 -> 39 [label=define]\n",
      "\t38 -> 40 [label=limit]\n",
      "\t38 -> 41 [label=review]\n",
      "\t19 -> 42 [label=allows]\n",
      "\t43 -> 44 [label=enables]\n",
      "\t35 -> 45 [label=\"focuses on\"]\n",
      "\t35 -> 46 [label=\"composed of\"]\n",
      "\t35 -> 47 [label=explores]\n",
      "\t35 -> 48 [label=uncovers]\n",
      "}\n",
      "\n"
     ]
    }
   ],
   "source": [
    "print (dot)"
   ]
  },
  {
   "cell_type": "code",
   "execution_count": null,
   "metadata": {},
   "outputs": [],
   "source": []
  }
 ],
 "metadata": {
  "kernelspec": {
   "display_name": "Python 3",
   "language": "python",
   "name": "python3"
  },
  "language_info": {
   "codemirror_mode": {
    "name": "ipython",
    "version": 3
   },
   "file_extension": ".py",
   "mimetype": "text/x-python",
   "name": "python",
   "nbconvert_exporter": "python",
   "pygments_lexer": "ipython3",
   "version": "3.11.5"
  },
  "orig_nbformat": 4
 },
 "nbformat": 4,
 "nbformat_minor": 2
}
